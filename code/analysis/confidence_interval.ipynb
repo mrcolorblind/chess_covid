{
 "cells": [
  {
   "cell_type": "code",
   "execution_count": 1,
   "metadata": {},
   "outputs": [],
   "source": [
    "import numpy as np\n",
    "import pandas as pd\n",
    "import matplotlib.pyplot as plt\n",
    "from tqdm import tqdm\n",
    "import sys\n",
    "sys.path.append('../')\n",
    "import utils"
   ]
  },
  {
   "cell_type": "code",
   "execution_count": 2,
   "metadata": {},
   "outputs": [],
   "source": [
    "# Gathering data\n",
    "df       = pd.read_csv(\"../../data/chessdotcom/matches.csv\")\n",
    "# Lendo os users escolhidos\n",
    "f        = open(\"../../data/chessdotcom/chosen_players.txt\", \"r\")\n",
    "chosen   = np.array([x[:-1] for x in f.readlines()])\n",
    "# Ordenando para a busca binária\n",
    "chosen   = np.sort(chosen)"
   ]
  },
  {
   "cell_type": "code",
   "execution_count": 26,
   "metadata": {},
   "outputs": [
    {
     "data": {
      "text/plain": [
       "1546329685"
      ]
     },
     "execution_count": 26,
     "metadata": {},
     "output_type": "execute_result"
    }
   ],
   "source": [
    "first_date"
   ]
  },
  {
   "cell_type": "markdown",
   "metadata": {},
   "source": [
    "#### Coletando dados: Jan 2019 - Mar 2020"
   ]
  },
  {
   "cell_type": "code",
   "execution_count": 18,
   "metadata": {},
   "outputs": [],
   "source": [
    "first_date = min(df[\"end_time\"]) \n",
    "last_date  = max(df[\"end_time\"])\n",
    "date       = 1583020800 # Sunday, 1 March 2020 00:00:00\n",
    "final      = True # Use as ending of the period? If not will use as beginning\n",
    "# nmatches   = utils.countMatches(df, chosen, date, final = final)\n",
    "ndays      = (date - first_date if final else last_date - date)/86400\n",
    "\n",
    "# Remove 0's and normalize by days\n",
    "keys = list(nmatches.keys())\n",
    "for key in keys:\n",
    "    if nmatches[key] == 0: del nmatches[key]\n",
    "    else: nmatches[key] = float(nmatches[key]/ndays)"
   ]
  },
  {
   "cell_type": "code",
   "execution_count": 30,
   "metadata": {},
   "outputs": [
    {
     "data": {
      "text/plain": [
       "[]"
      ]
     },
     "execution_count": 30,
     "metadata": {},
     "output_type": "execute_result"
    },
    {
     "data": {
      "image/png": "[encoded data removed]",
      "text/plain": [
       "<Figure size 432x288 with 1 Axes>"
      ]
     },
     "metadata": {
      "needs_background": "light"
     },
     "output_type": "display_data"
    }
   ],
   "source": [
    "plt.hist(nmatches.values(), bins = np.linspace(0,20))\n",
    "plt.title(\"Histograma de média diária de partidas por jogador \\n Jan 2019 - Mar 2020\")\n",
    "plt.plot()"
   ]
  },
  {
   "cell_type": "code",
   "execution_count": 32,
   "metadata": {},
   "outputs": [
    {
     "data": {
      "text/plain": [
       "[2.2211237137769504, 2.794242355284634]"
      ]
     },
     "execution_count": 32,
     "metadata": {},
     "output_type": "execute_result"
    }
   ],
   "source": [
    "# Intervalo de Confiança sem Bootstrap:\n",
    "utils.confidenceInterval(np.array(list(nmatches.values())))"
   ]
  },
  {
   "cell_type": "markdown",
   "metadata": {},
   "source": [
    "#### Agora vamos fazer um Bootstrap para analisar qual o intervalo de confiança de média das amostras."
   ]
  },
  {
   "cell_type": "code",
   "execution_count": 35,
   "metadata": {},
   "outputs": [],
   "source": [
    "def bootstrap_mean(nme, n):\n",
    "    values = np.zeros(n)\n",
    "    for i in range(n):\n",
    "        sample    = nme.sample(len(nme), replace = True)\n",
    "        values[i] = sample.mean()\n",
    "    return values\n",
    "\n",
    "def percentile(bm_values, init, final):\n",
    "#     bm_values = np.sort(bm_values)\n",
    "#     per1      = int(len(bm_values) / 100 * init)\n",
    "#     per2      = int(len(bm_values) / 100 * final)\n",
    "#     inferior  = bm_values[per1]\n",
    "#     superior  = bm_values[per2]\n",
    "    inferior = np.percentile(bm_values, init)\n",
    "    superior = np.percentile(bm_values, final)\n",
    "    return [inferior, superior]"
   ]
  },
  {
   "cell_type": "code",
   "execution_count": 45,
   "metadata": {},
   "outputs": [
    {
     "data": {
      "text/plain": [
       "[]"
      ]
     },
     "execution_count": 45,
     "metadata": {},
     "output_type": "execute_result"
    },
    {
     "data": {
      "image/png": "[encoded data removed]",
      "text/plain": [
       "<Figure size 432x288 with 1 Axes>"
      ]
     },
     "metadata": {
      "needs_background": "light"
     },
     "output_type": "display_data"
    }
   ],
   "source": [
    "plt.hist(bmean, color = \"firebrick\", bins = np.linspace(1.5, 3.5, 1000))\n",
    "plt.title(\"Bootstrap \\n Histograma de Médias das Amostras\")\n",
    "plt.savefig(\"bootstrap_graph.png\", edgecolor = 'b')\n",
    "plt.plot()"
   ]
  },
  {
   "cell_type": "code",
   "execution_count": 34,
   "metadata": {},
   "outputs": [],
   "source": [
    "# 20000 Amostras\n",
    "pop   = pd.Series(nmatches.values())\n",
    "bmean = bootstrap_mean(pop, 20000)"
   ]
  },
  {
   "cell_type": "markdown",
   "metadata": {},
   "source": [
    "#### Resultado:"
   ]
  },
  {
   "cell_type": "code",
   "execution_count": 37,
   "metadata": {},
   "outputs": [
    {
     "data": {
      "text/plain": [
       "[2.241043239502764, 2.779511779598973]"
      ]
     },
     "execution_count": 37,
     "metadata": {},
     "output_type": "execute_result"
    }
   ],
   "source": [
    "percentile(bmean, 0.5, 99.5)"
   ]
  },
  {
   "cell_type": "markdown",
   "metadata": {},
   "source": [
    "#### Coletando dados: Mar 2020 - Dez 2020"
   ]
  },
  {
   "cell_type": "code",
   "execution_count": 76,
   "metadata": {},
   "outputs": [
    {
     "name": "stderr",
     "output_type": "stream",
     "text": [
      " 65%|██████▌   | 2598550/3970491 [00:59<00:31, 43886.11it/s]\n"
     ]
    }
   ],
   "source": [
    "first_date = min(df[\"end_time\"]) \n",
    "last_date  = max(df[\"end_time\"])\n",
    "date       = 1583020800 # Sunday, 1 March 2020 00:00:00\n",
    "final      = False # Use as ending of the period? If not will use as beginning\n",
    "nmatches   = utils.countMatches(df, chosen, date, final = final)\n",
    "ndays      = (date - first_date if final else last_date - date)/86400\n",
    "\n",
    "# Remove 0's and normalize by days\n",
    "keys = list(nmatches.keys())\n",
    "for key in keys:\n",
    "    if nmatches[key] == 0: del nmatches[key]\n",
    "    else: nmatches[key] = float(nmatches[key]/ndays)"
   ]
  },
  {
   "cell_type": "markdown",
   "metadata": {},
   "source": [
    "Média de Partidas no Período:"
   ]
  },
  {
   "cell_type": "code",
   "execution_count": 78,
   "metadata": {},
   "outputs": [
    {
     "data": {
      "text/plain": [
       "2.7714852402374706"
      ]
     },
     "execution_count": 78,
     "metadata": {},
     "output_type": "execute_result"
    }
   ],
   "source": [
    "np.array(list(nmatches.values())).mean()"
   ]
  },
  {
   "cell_type": "markdown",
   "metadata": {},
   "source": [
    "#### Condensando o resultado em um gráfico"
   ]
  },
  {
   "cell_type": "code",
   "execution_count": 106,
   "metadata": {},
   "outputs": [
    {
     "data": {
      "text/plain": [
       "<matplotlib.legend.Legend at 0x7ff67f7cb0d0>"
      ]
     },
     "execution_count": 106,
     "metadata": {},
     "output_type": "execute_result"
    },
    {
     "data": {
      "image/png": "[encoded data removed]",
      "text/plain": [
       "<Figure size 432x288 with 1 Axes>"
      ]
     },
     "metadata": {
      "needs_background": "light"
     },
     "output_type": "display_data"
    }
   ],
   "source": [
    "confidence = [2.241043239502764, 2.779511779598973]\n",
    "mean       = np.array(list(nmatches.values())).mean()\n",
    "plt.hist(bmean, color = \"blue\", bins = np.linspace(2, 3, 1000))\n",
    "plt.vlines(confidence, 0, 50, color = \"black\", linestyles = \"dashed\", label = \"Intervalo de Confiança\")\n",
    "plt.title(\"Jan 2019 - Mar 2020 \\n Histograma de Médias das Amostras\")\n",
    "plt.xlabel(\"Média de Partidas da Amostra\")\n",
    "plt.ylabel(\"Numero de Amostras com essa Média\")\n",
    "plt.savefig(\"confidence_graph.png\", edgecolor = 'b')\n",
    "plt.plot(mean, 2,'v', markersize = 10, color = \"red\", label = \"Média Após Mar 2020\")\n",
    "plt.legend()"
   ]
  }
 ],
 "metadata": {
  "kernelspec": {
   "display_name": "Python 3",
   "language": "python",
   "name": "python3"
  },
  "language_info": {
   "codemirror_mode": {
    "name": "ipython",
    "version": 3
   },
   "file_extension": ".py",
   "mimetype": "text/x-python",
   "name": "python",
   "nbconvert_exporter": "python",
   "pygments_lexer": "ipython3",
   "version": "3.8.5"
  }
 },
 "nbformat": 4,
 "nbformat_minor": 4
}
